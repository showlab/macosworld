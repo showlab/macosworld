{
 "cells": [
  {
   "cell_type": "code",
   "execution_count": null,
   "id": "220d70ae",
   "metadata": {},
   "outputs": [],
   "source": [
    "from utils.VNCClient import VNCClient_SSH"
   ]
  },
  {
   "cell_type": "code",
   "execution_count": null,
   "id": "e846b61c",
   "metadata": {},
   "outputs": [],
   "source": [
    "guest_username = 'ec2-user'\n",
    "guest_password = '000000'\n",
    "ssh_host = '13.250.104.211' # or something like `ec2-13-250-104-211.ap-southeast-1.compute.amazonaws.com`, or something like `192.168.187.129`\n",
    "ssh_pkey = '../credential.pem'"
   ]
  },
  {
   "cell_type": "code",
   "execution_count": null,
   "id": "6d50b149",
   "metadata": {},
   "outputs": [],
   "source": [
    "remote_client = VNCClient_SSH(\n",
    "    guest_username = guest_username, \n",
    "    guest_password = guest_password, \n",
    "    ssh_host = ssh_host,\n",
    "    ssh_pkey = ssh_pkey\n",
    ")"
   ]
  },
  {
   "cell_type": "code",
   "execution_count": null,
   "id": "638e9abf",
   "metadata": {},
   "outputs": [],
   "source": [
    "remote_client.key_press('command-c')"
   ]
  },
  {
   "cell_type": "code",
   "execution_count": null,
   "id": "4b4e2058",
   "metadata": {},
   "outputs": [],
   "source": []
  }
 ],
 "metadata": {
  "kernelspec": {
   "display_name": "macosworld",
   "language": "python",
   "name": "python3"
  },
  "language_info": {
   "codemirror_mode": {
    "name": "ipython",
    "version": 3
   },
   "file_extension": ".py",
   "mimetype": "text/x-python",
   "name": "python",
   "nbconvert_exporter": "python",
   "pygments_lexer": "ipython3",
   "version": "3.9.21"
  }
 },
 "nbformat": 4,
 "nbformat_minor": 5
}
