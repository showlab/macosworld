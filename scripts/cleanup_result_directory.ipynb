{
 "cells": [
  {
   "cell_type": "markdown",
   "metadata": {},
   "source": [
    "This script helps cleaning up a result directory."
   ]
  },
  {
   "cell_type": "code",
   "execution_count": null,
   "metadata": {},
   "outputs": [],
   "source": [
    "import os\n",
    "import shutil"
   ]
  },
  {
   "cell_type": "code",
   "execution_count": null,
   "metadata": {},
   "outputs": [],
   "source": [
    "def clean_directories(base_save_dir):\n",
    "    # Check if the directory exists\n",
    "    if not os.path.isdir(base_save_dir):\n",
    "        raise ValueError(f'Directory does not exist: {base_save_dir}')\n",
    "    # Iterate through each item in the base directory\n",
    "    for category_dir in os.listdir(base_save_dir):\n",
    "        if os.path.isdir(os.path.join(base_save_dir, category_dir)):\n",
    "            # Iterate through each item in the category directory\n",
    "            for subdirectory in os.listdir(os.path.join(base_save_dir, category_dir)):\n",
    "                subdirectory_path = os.path.join(base_save_dir, category_dir, subdirectory)\n",
    "                \n",
    "                # Check if the item is a directory\n",
    "                if os.path.isdir(subdirectory_path):\n",
    "                    # List all files in the subdirectory\n",
    "                    files = os.listdir(subdirectory_path)\n",
    "                    \n",
    "                    # Check if there is at least one .txt file in the subdirectory\n",
    "                    if not any(file.endswith('.txt') for file in files):\n",
    "                        # If no .txt files are found, delete the subdirectory\n",
    "                        print(f\"Deleting: {subdirectory_path}\")\n",
    "                        shutil.rmtree(subdirectory_path)"
   ]
  },
  {
   "cell_type": "code",
   "execution_count": null,
   "metadata": {},
   "outputs": [],
   "source": [
    "clean_directories(\"/path/to/base_save_dir\")"
   ]
  },
  {
   "cell_type": "code",
   "execution_count": null,
   "metadata": {},
   "outputs": [],
   "source": []
  }
 ],
 "metadata": {
  "kernelspec": {
   "display_name": "macosworld",
   "language": "python",
   "name": "python3"
  },
  "language_info": {
   "codemirror_mode": {
    "name": "ipython",
    "version": 3
   },
   "file_extension": ".py",
   "mimetype": "text/x-python",
   "name": "python",
   "nbconvert_exporter": "python",
   "pygments_lexer": "ipython3",
   "version": "3.9.21"
  }
 },
 "nbformat": 4,
 "nbformat_minor": 2
}
