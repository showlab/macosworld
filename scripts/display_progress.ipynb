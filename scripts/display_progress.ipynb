{
 "cells": [
  {
   "cell_type": "markdown",
   "id": "5ed5e093",
   "metadata": {},
   "source": [
    "# Benchmark Progress Display\n",
    "\n",
    "This notebook displays benchmark progress through a hierarchical menu:\n",
    " - To expand/collapse, click on an item\n",
    " - To refresh, re-run the cell"
   ]
  },
  {
   "cell_type": "code",
   "execution_count": null,
   "id": "3f8cfd4b",
   "metadata": {},
   "outputs": [],
   "source": [
    "from pathlib import Path\n",
    "from display_progress import run_interactive\n",
    "\n",
    "run_interactive()"
   ]
  },
  {
   "cell_type": "code",
   "execution_count": null,
   "id": "5240b16f",
   "metadata": {},
   "outputs": [],
   "source": []
  }
 ],
 "metadata": {
  "kernelspec": {
   "display_name": "macosworld",
   "language": "python",
   "name": "python3"
  },
  "language_info": {
   "codemirror_mode": {
    "name": "ipython",
    "version": 3
   },
   "file_extension": ".py",
   "mimetype": "text/x-python",
   "name": "python",
   "nbconvert_exporter": "python",
   "pygments_lexer": "ipython3",
   "version": "3.9.21"
  }
 },
 "nbformat": 4,
 "nbformat_minor": 5
}
